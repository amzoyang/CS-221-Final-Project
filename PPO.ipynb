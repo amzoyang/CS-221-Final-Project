{
 "cells": [
  {
   "cell_type": "code",
   "execution_count": 1,
   "metadata": {},
   "outputs": [],
   "source": [
    "import random\n",
    "import numpy as np\n",
    "import pandas as pd\n",
    "import matplotlib.pyplot as plt\n",
    "\n",
    "import os\n",
    "\n",
    "import torch\n",
    "import torch.nn as nn\n",
    "import torch.nn.functional as F\n",
    "import torch.optim as optim\n",
    "\n",
    "import matplotlib.pyplot as plt\n",
    "import matplotlib.patheffects as PathEffects\n",
    "%matplotlib inline\n",
    "\n",
    "from custom_trading_env import TradingEnv\n",
    "import DQNTradingAgent.dqn_agent as dqn_agent\n",
    "\n",
    "device = torch.device('cpu')\n",
    "dqn_agent.set_device(device)\n",
    "\n",
    "from tqdm import tqdm, tnrange"
   ]
  },
  {
   "cell_type": "code",
   "execution_count": 2,
   "metadata": {},
   "outputs": [],
   "source": [
    "n_action_intervals = 5\n",
    "\n",
    "sample_len   = 480\n",
    "obs_data_len = 192\n",
    "step_len     = 1\n",
    "fee          = 0.0005\n",
    "sell_at_end  = False\n",
    "\n",
    "hyperparam_path = \"./saves/Original/1/hyperparams.pth\"\n",
    "statedict_path  = \"./saves/Original/1/TradingGym_Rainbow_3000.pth\""
   ]
  },
  {
   "cell_type": "code",
   "execution_count": 3,
   "metadata": {},
   "outputs": [],
   "source": [
    "df = pd.read_hdf('dataset/binance_data_train.h5', 'STW')\n",
    "df.fillna(method='ffill', inplace=True)"
   ]
  },
  {
   "cell_type": "code",
   "execution_count": 4,
   "metadata": {},
   "outputs": [
    {
     "name": "stderr",
     "output_type": "stream",
     "text": [
      "[2019-08-22 13:31:40,211] Making new env: custom_trading_env\n"
     ]
    }
   ],
   "source": [
    "env = TradingEnv(custom_args=None, env_id='custom_trading_env', obs_data_len=obs_data_len, step_len=step_len, sample_len=sample_len,\n",
    "                     df=df, fee=fee, initial_budget=1, n_action_intervals=n_action_intervals, deal_col_name='c',\n",
    "                     sell_at_end=sell_at_end,\n",
    "                     feature_names=['o', 'h','l','c','v',\n",
    "                                    'num_trades', 'taker_base_vol'])"
   ]
  },
  {
   "cell_type": "code",
   "execution_count": 5,
   "metadata": {},
   "outputs": [
    {
     "name": "stderr",
     "output_type": "stream",
     "text": [
      "/home/jeffrey/Binanace_trading_simulation/agent/DQN/custom_trading_env.py:74: FutureWarning: Method .as_matrix will be removed in a future version. Use .values instead.\n",
      "  self.price = self.df_sample[self.price_name].as_matrix()\n",
      "/home/jeffrey/Binanace_trading_simulation/agent/DQN/custom_trading_env.py:76: FutureWarning: Method .as_matrix will be removed in a future version. Use .values instead.\n",
      "  self.obs_features = self.df_sample[self.using_feature].as_matrix()\n"
     ]
    }
   ],
   "source": [
    "agent = dqn_agent.Agent(action_size=2 * n_action_intervals + 1,\n",
    "                        obs_len=obs_data_len,\n",
    "                        num_features=env.reset().shape[-1],\n",
    "                        **torch.load(hyperparam_path))\n",
    "\n",
    "agent.qnetwork_local.load_state_dict(torch.load(statedict_path, map_location=device))\n",
    "agent.qnetwork_local.eval()\n",
    "for param in agent.qnetwork_local.parameters():\n",
    "    param.requires_grad_(False)"
   ]
  },
  {
   "cell_type": "code",
   "execution_count": 6,
   "metadata": {},
   "outputs": [],
   "source": [
    "def integrated_gradient(input_data, baseline_data, action, n_steps):\n",
    "    assert input_data.shape == baseline_data.shape, \"the shape of `input_data` and `baseline_data` must match.\"\\\n",
    "                                                    \"(Given shapes: {}, {})\".format(input_data.shape, baseline_data.shape)\n",
    "    \n",
    "    input_data    = input_data.view(1, *input_data.shape[-2:])\n",
    "    baseline_data = baseline_data.view(1, *baseline_data.shape[-2:])\n",
    "\n",
    "    diff      = input_data.data - baseline_data.data\n",
    "    increment = diff / n_steps\n",
    "    \n",
    "    x = baseline_data.data.clone()\n",
    "    x.requires_grad_(True)\n",
    "    \n",
    "    for i in tnrange(n_steps):\n",
    "        z_probs = F.softmax(agent.qnetwork_local(x)[0, action], dim=0)\n",
    "        q = agent.supports.mul(z_probs).sum()\n",
    "        \n",
    "        q.backward()\n",
    "        \n",
    "        x.data.add_(increment)\n",
    "    \n",
    "    x.grad.div_(n_steps)\n",
    "    \n",
    "    return (diff * x.grad).squeeze(0)"
   ]
  },
  {
   "cell_type": "code",
   "execution_count": 7,
   "metadata": {},
   "outputs": [
    {
     "data": {
      "application/vnd.jupyter.widget-view+json": {
       "model_id": "84f8004983834b2496f1c2a0d8a619fb",
       "version_major": 2,
       "version_minor": 0
      },
      "text/plain": [
       "HBox(children=(IntProgress(value=0), HTML(value='')))"
      ]
     },
     "metadata": {},
     "output_type": "display_data"
    },
    {
     "name": "stdout",
     "output_type": "stream",
     "text": [
      "\n"
     ]
    }
   ],
   "source": [
    "next_state = env.reset()\n",
    "for i in tnrange(100):\n",
    "    state = next_state\n",
    "    action = int(agent.act(state, eps=0.))\n",
    "    next_state, _, done, _ = env.step(action)\n",
    "\n",
    "    if done:\n",
    "        break"
   ]
  },
  {
   "cell_type": "code",
   "execution_count": 8,
   "metadata": {},
   "outputs": [],
   "source": [
    "# input_data    = torch.from_numpy(env.reset()).float()\n",
    "input_data    = torch.from_numpy(state).float()\n",
    "\n",
    "# baseline_data = torch.from_numpy(env.reset()).float()\n",
    "# baseline_data = input_data.mean(dim=0).repeat(input_data.size(0), 1)\n",
    "# baseline_data = input_data[0].repeat(input_data.size(0), 1)\n",
    "baseline_data = torch.zeros_like(input_data)"
   ]
  },
  {
   "cell_type": "code",
   "execution_count": 9,
   "metadata": {
    "collapsed": true
   },
   "outputs": [
    {
     "data": {
      "application/vnd.jupyter.widget-view+json": {
       "model_id": "fdd27d1c509d4614aa8eeee8f137f0a1",
       "version_major": 2,
       "version_minor": 0
      },
      "text/plain": [
       "HBox(children=(IntProgress(value=0), HTML(value='')))"
      ]
     },
     "metadata": {},
     "output_type": "display_data"
    },
    {
     "name": "stdout",
     "output_type": "stream",
     "text": [
      "\n"
     ]
    },
    {
     "ename": "KeyboardInterrupt",
     "evalue": "",
     "output_type": "error",
     "traceback": [
      "\u001b[0;31m---------------------------------------------------------------------------\u001b[0m",
      "\u001b[0;31mKeyboardInterrupt\u001b[0m                         Traceback (most recent call last)",
      "\u001b[0;32m<ipython-input-9-e47a5820209e>\u001b[0m in \u001b[0;36m<module>\u001b[0;34m\u001b[0m\n\u001b[0;32m----> 1\u001b[0;31m \u001b[0mintegrated_gradient\u001b[0m\u001b[0;34m(\u001b[0m\u001b[0minput_data\u001b[0m\u001b[0;34m,\u001b[0m \u001b[0mbaseline_data\u001b[0m\u001b[0;34m,\u001b[0m \u001b[0maction\u001b[0m\u001b[0;34m=\u001b[0m\u001b[0;36m1\u001b[0m\u001b[0;34m,\u001b[0m \u001b[0mn_steps\u001b[0m\u001b[0;34m=\u001b[0m\u001b[0;36m100\u001b[0m\u001b[0;34m)\u001b[0m\u001b[0;34m\u001b[0m\u001b[0;34m\u001b[0m\u001b[0m\n\u001b[0m",
      "\u001b[0;32m<ipython-input-6-88fbe1b24da9>\u001b[0m in \u001b[0;36mintegrated_gradient\u001b[0;34m(input_data, baseline_data, action, n_steps)\u001b[0m\n\u001b[1;32m     16\u001b[0m         \u001b[0mq\u001b[0m \u001b[0;34m=\u001b[0m \u001b[0magent\u001b[0m\u001b[0;34m.\u001b[0m\u001b[0msupports\u001b[0m\u001b[0;34m.\u001b[0m\u001b[0mmul\u001b[0m\u001b[0;34m(\u001b[0m\u001b[0mz_probs\u001b[0m\u001b[0;34m)\u001b[0m\u001b[0;34m.\u001b[0m\u001b[0msum\u001b[0m\u001b[0;34m(\u001b[0m\u001b[0;34m)\u001b[0m\u001b[0;34m\u001b[0m\u001b[0;34m\u001b[0m\u001b[0m\n\u001b[1;32m     17\u001b[0m \u001b[0;34m\u001b[0m\u001b[0m\n\u001b[0;32m---> 18\u001b[0;31m         \u001b[0mq\u001b[0m\u001b[0;34m.\u001b[0m\u001b[0mbackward\u001b[0m\u001b[0;34m(\u001b[0m\u001b[0;34m)\u001b[0m\u001b[0;34m\u001b[0m\u001b[0;34m\u001b[0m\u001b[0m\n\u001b[0m\u001b[1;32m     19\u001b[0m \u001b[0;34m\u001b[0m\u001b[0m\n\u001b[1;32m     20\u001b[0m         \u001b[0mx\u001b[0m\u001b[0;34m.\u001b[0m\u001b[0mdata\u001b[0m\u001b[0;34m.\u001b[0m\u001b[0madd_\u001b[0m\u001b[0;34m(\u001b[0m\u001b[0mincrement\u001b[0m\u001b[0;34m)\u001b[0m\u001b[0;34m\u001b[0m\u001b[0;34m\u001b[0m\u001b[0m\n",
      "\u001b[0;32m~/anaconda3/envs/RL/lib/python3.7/site-packages/torch/tensor.py\u001b[0m in \u001b[0;36mbackward\u001b[0;34m(self, gradient, retain_graph, create_graph)\u001b[0m\n\u001b[1;32m    100\u001b[0m                 \u001b[0mproducts\u001b[0m\u001b[0;34m.\u001b[0m \u001b[0mDefaults\u001b[0m \u001b[0mto\u001b[0m\u001b[0;31m \u001b[0m\u001b[0;31m`\u001b[0m\u001b[0;31m`\u001b[0m\u001b[0;32mFalse\u001b[0m\u001b[0;31m`\u001b[0m\u001b[0;31m`\u001b[0m\u001b[0;34m.\u001b[0m\u001b[0;34m\u001b[0m\u001b[0;34m\u001b[0m\u001b[0m\n\u001b[1;32m    101\u001b[0m         \"\"\"\n\u001b[0;32m--> 102\u001b[0;31m         \u001b[0mtorch\u001b[0m\u001b[0;34m.\u001b[0m\u001b[0mautograd\u001b[0m\u001b[0;34m.\u001b[0m\u001b[0mbackward\u001b[0m\u001b[0;34m(\u001b[0m\u001b[0mself\u001b[0m\u001b[0;34m,\u001b[0m \u001b[0mgradient\u001b[0m\u001b[0;34m,\u001b[0m \u001b[0mretain_graph\u001b[0m\u001b[0;34m,\u001b[0m \u001b[0mcreate_graph\u001b[0m\u001b[0;34m)\u001b[0m\u001b[0;34m\u001b[0m\u001b[0;34m\u001b[0m\u001b[0m\n\u001b[0m\u001b[1;32m    103\u001b[0m \u001b[0;34m\u001b[0m\u001b[0m\n\u001b[1;32m    104\u001b[0m     \u001b[0;32mdef\u001b[0m \u001b[0mregister_hook\u001b[0m\u001b[0;34m(\u001b[0m\u001b[0mself\u001b[0m\u001b[0;34m,\u001b[0m \u001b[0mhook\u001b[0m\u001b[0;34m)\u001b[0m\u001b[0;34m:\u001b[0m\u001b[0;34m\u001b[0m\u001b[0;34m\u001b[0m\u001b[0m\n",
      "\u001b[0;32m~/anaconda3/envs/RL/lib/python3.7/site-packages/torch/autograd/__init__.py\u001b[0m in \u001b[0;36mbackward\u001b[0;34m(tensors, grad_tensors, retain_graph, create_graph, grad_variables)\u001b[0m\n\u001b[1;32m     88\u001b[0m     Variable._execution_engine.run_backward(\n\u001b[1;32m     89\u001b[0m         \u001b[0mtensors\u001b[0m\u001b[0;34m,\u001b[0m \u001b[0mgrad_tensors\u001b[0m\u001b[0;34m,\u001b[0m \u001b[0mretain_graph\u001b[0m\u001b[0;34m,\u001b[0m \u001b[0mcreate_graph\u001b[0m\u001b[0;34m,\u001b[0m\u001b[0;34m\u001b[0m\u001b[0;34m\u001b[0m\u001b[0m\n\u001b[0;32m---> 90\u001b[0;31m         allow_unreachable=True)  # allow_unreachable flag\n\u001b[0m\u001b[1;32m     91\u001b[0m \u001b[0;34m\u001b[0m\u001b[0m\n\u001b[1;32m     92\u001b[0m \u001b[0;34m\u001b[0m\u001b[0m\n",
      "\u001b[0;31mKeyboardInterrupt\u001b[0m: "
     ]
    }
   ],
   "source": [
    "integrated_gradient(input_data, baseline_data, action=1, n_steps=100)"
   ]
  },
  {
   "cell_type": "code",
   "execution_count": 11,
   "metadata": {},
   "outputs": [
    {
     "data": {
      "application/vnd.jupyter.widget-view+json": {
       "model_id": "6335df8e4c0b48ceb56c1d7c23e19213",
       "version_major": 2,
       "version_minor": 0
      },
      "text/plain": [
       "HBox(children=(IntProgress(value=0, description='action loop', max=11, style=ProgressStyle(description_width='…"
      ]
     },
     "metadata": {},
     "output_type": "display_data"
    },
    {
     "data": {
      "application/vnd.jupyter.widget-view+json": {
       "model_id": "7228d130438b43a7a88988c1d6536e78",
       "version_major": 2,
       "version_minor": 0
      },
      "text/plain": [
       "HBox(children=(IntProgress(value=0), HTML(value='')))"
      ]
     },
     "metadata": {},
     "output_type": "display_data"
    },
    {
     "data": {
      "application/vnd.jupyter.widget-view+json": {
       "model_id": "f9f44253850d4d05b45ca1ab0573a703",
       "version_major": 2,
       "version_minor": 0
      },
      "text/plain": [
       "HBox(children=(IntProgress(value=0), HTML(value='')))"
      ]
     },
     "metadata": {},
     "output_type": "display_data"
    },
    {
     "data": {
      "application/vnd.jupyter.widget-view+json": {
       "model_id": "d06761b26565451fbf480d4b04f8358a",
       "version_major": 2,
       "version_minor": 0
      },
      "text/plain": [
       "HBox(children=(IntProgress(value=0), HTML(value='')))"
      ]
     },
     "metadata": {},
     "output_type": "display_data"
    },
    {
     "data": {
      "application/vnd.jupyter.widget-view+json": {
       "model_id": "560be3e625e8429f8dc3724f3a0793ef",
       "version_major": 2,
       "version_minor": 0
      },
      "text/plain": [
       "HBox(children=(IntProgress(value=0), HTML(value='')))"
      ]
     },
     "metadata": {},
     "output_type": "display_data"
    },
    {
     "data": {
      "application/vnd.jupyter.widget-view+json": {
       "model_id": "3e989a59254f4ecb88342594f3a9a41c",
       "version_major": 2,
       "version_minor": 0
      },
      "text/plain": [
       "HBox(children=(IntProgress(value=0), HTML(value='')))"
      ]
     },
     "metadata": {},
     "output_type": "display_data"
    },
    {
     "data": {
      "application/vnd.jupyter.widget-view+json": {
       "model_id": "ceed635af27a437b9b23d5a9ca4772c8",
       "version_major": 2,
       "version_minor": 0
      },
      "text/plain": [
       "HBox(children=(IntProgress(value=0), HTML(value='')))"
      ]
     },
     "metadata": {},
     "output_type": "display_data"
    },
    {
     "data": {
      "application/vnd.jupyter.widget-view+json": {
       "model_id": "3ee4491985c04155b7dace0cd4db0476",
       "version_major": 2,
       "version_minor": 0
      },
      "text/plain": [
       "HBox(children=(IntProgress(value=0), HTML(value='')))"
      ]
     },
     "metadata": {},
     "output_type": "display_data"
    },
    {
     "data": {
      "application/vnd.jupyter.widget-view+json": {
       "model_id": "218de5e402414d8db8b6349915a9252a",
       "version_major": 2,
       "version_minor": 0
      },
      "text/plain": [
       "HBox(children=(IntProgress(value=0), HTML(value='')))"
      ]
     },
     "metadata": {},
     "output_type": "display_data"
    },
    {
     "data": {
      "application/vnd.jupyter.widget-view+json": {
       "model_id": "9e5144145fb04ae79654077f1cfecab6",
       "version_major": 2,
       "version_minor": 0
      },
      "text/plain": [
       "HBox(children=(IntProgress(value=0), HTML(value='')))"
      ]
     },
     "metadata": {},
     "output_type": "display_data"
    },
    {
     "data": {
      "application/vnd.jupyter.widget-view+json": {
       "model_id": "e4a3ffa9314a49bcb30110532a07008c",
       "version_major": 2,
       "version_minor": 0
      },
      "text/plain": [
       "HBox(children=(IntProgress(value=0), HTML(value='')))"
      ]
     },
     "metadata": {},
     "output_type": "display_data"
    },
    {
     "data": {
      "application/vnd.jupyter.widget-view+json": {
       "model_id": "d215c370abbb4c878a2de0370e59f596",
       "version_major": 2,
       "version_minor": 0
      },
      "text/plain": [
       "HBox(children=(IntProgress(value=0), HTML(value='')))"
      ]
     },
     "metadata": {},
     "output_type": "display_data"
    },
    {
     "name": "stdout",
     "output_type": "stream",
     "text": [
      "\n"
     ]
    }
   ],
   "source": [
    "importances_list = [integrated_gradient(input_data, baseline_data, action=act, n_steps=100) for act in tnrange(2*n_action_intervals+1, desc = \"action loop\")]"
   ]
  },
  {
   "cell_type": "markdown",
   "metadata": {},
   "source": [
    "## practice"
   ]
  },
  {
   "cell_type": "code",
   "execution_count": 88,
   "metadata": {
    "collapsed": true
   },
   "outputs": [
    {
     "data": {
      "text/plain": [
       "<matplotlib.colorbar.Colorbar at 0x7fc6c36146d8>"
      ]
     },
     "execution_count": 88,
     "metadata": {},
     "output_type": "execute_result"
    },
    {
     "data": {
      "image/png": "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\n",
      "text/plain": [
       "<Figure size 216x864 with 2 Axes>"
      ]
     },
     "metadata": {
      "needs_background": "light"
     },
     "output_type": "display_data"
    }
   ],
   
