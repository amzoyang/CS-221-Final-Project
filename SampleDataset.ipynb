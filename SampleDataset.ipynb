{
 "cells": [
  {
   "cell_type": "code",
   "execution_count": 1,
   "metadata": {},
   "outputs": [],
   "source": [
    "import requests        # for making http requests to binance\n",
    "import json            # for parsing what binance sends back to us\n",
    "import pandas as pd    # for storing and manipulating the data we get back\n",
    "import numpy as np     # numerical python, i usually need this somewhere \n",
    "                       # and so i import by habit nowadays\n",
    "\n",
    "import matplotlib.pyplot as plt # for charts and such\n",
    "    \n",
    "import datetime as dt  # for dealing with times"
   ]
  },
  {
   "cell_type": "code",
   "execution_count": 2,
   "metadata": {},
   "outputs": [],
   "source": [
    "root_url = 'https://api.binance.com/api/v1/klines'\n"
   ]
  },
  {
   "cell_type": "code",
   "execution_count": 3,
   "metadata": {},
   "outputs": [],
   "source": [
    "def get_bars(symbol, interval = '1h', limit=500, starttime='', endtime=''):\n",
    "    url = root_url + '?symbol=' + symbol + '&interval=' + interval + '&limit=' + str(limit)\n",
    "    if starttime:\n",
    "        url = url + '&startTime=' + str(starttime)\n",
    "    if endtime:\n",
    "        url = url + '&endTime=' + str(endtime)\n",
    "    data = json.loads(requests.get(url).text)\n",
    "    try:\n",
    "        df = pd.DataFrame(data)\n",
    "    except:\n",
    "        raise ValueError(data)\n",
    "    df.columns = ['open_time',\n",
    "                  'o', 'h', 'l', 'c', 'v',\n",
    "                  'close_time', 'qav', 'num_trades',\n",
    "                  'taker_base_vol', 'taker_quote_vol', 'ignore']\n",
    "    df.index = [dt.datetime.fromtimestamp(x/1000.0) for x in df.close_time]\n",
    "    return df"
   ]
  },
  {
   "cell_type": "code",
   "execution_count": 4,
   "metadata": {},
   "outputs": [],
   "source": [
    "df = get_bars(\"BNBBTC\", interval='15m', limit=1000, starttime=1500004800000, endtime='')\n"
   ]
  },
  {
   "cell_type": "code",
   "execution_count": 5,
   "metadata": {},
   "outputs": [
    {
     "data": {
      "text/plain": [
       "1000"
      ]
     },
     "execution_count": 5,
     "metadata": {},
     "output_type": "execute_result"
    }
   ],
   "source": [
    "len(df)\n"
   ]
  },
  {
   "cell_type": "code",
   "execution_count": 6,
   "metadata": {},
   "outputs": [
    {
     "data": {
      "text/html": [
       "<div>\n",
       "<style scoped>\n",
       "    .dataframe tbody tr th:only-of-type {\n",
       "        vertical-align: middle;\n",
       "    }\n",
       "\n",
       "    .dataframe tbody tr th {\n",
       "        vertical-align: top;\n",
       "    }\n",
       "\n",
       "    .dataframe thead th {\n",
       "        text-align: right;\n",
       "    }\n",
       "</style>\n",
       "<table border=\"1\" class=\"dataframe\">\n",
       "  <thead>\n",
       "    <tr style=\"text-align: right;\">\n",
       "      <th></th>\n",
       "      <th>open_time</th>\n",
       "      <th>o</th>\n",
       "      <th>h</th>\n",
       "      <th>l</th>\n",
       "      <th>c</th>\n",
       "      <th>v</th>\n",
       "      <th>close_time</th>\n",
       "      <th>qav</th>\n",
       "      <th>num_trades</th>\n",
       "      <th>taker_base_vol</th>\n",
       "      <th>taker_quote_vol</th>\n",
       "      <th>ignore</th>\n",
       "    </tr>\n",
       "  </thead>\n",
       "  <tbody>\n",
       "    <tr>\n",
       "      <th>2017-07-14 04:14:59.999</th>\n",
       "      <td>1500004800000</td>\n",
       "      <td>0.00005000</td>\n",
       "      <td>0.00005300</td>\n",
       "      <td>0.00001000</td>\n",
       "      <td>0.00004000</td>\n",
       "      <td>3148043.00000000</td>\n",
       "      <td>1500005699999</td>\n",
       "      <td>130.30196612</td>\n",
       "      <td>451</td>\n",
       "      <td>2669352.00000000</td>\n",
       "      <td>111.18404497</td>\n",
       "      <td>84396652.45546950</td>\n",
       "    </tr>\n",
       "    <tr>\n",
       "      <th>2017-07-14 04:29:59.999</th>\n",
       "      <td>1500005700000</td>\n",
       "      <td>0.00004086</td>\n",
       "      <td>0.00004898</td>\n",
       "      <td>0.00004000</td>\n",
       "      <td>0.00004747</td>\n",
       "      <td>1259082.00000000</td>\n",
       "      <td>1500006599999</td>\n",
       "      <td>56.06023368</td>\n",
       "      <td>305</td>\n",
       "      <td>943579.00000000</td>\n",
       "      <td>41.91450043</td>\n",
       "      <td>84713908.44046950</td>\n",
       "    </tr>\n",
       "    <tr>\n",
       "      <th>2017-07-14 04:44:59.999</th>\n",
       "      <td>1500006600000</td>\n",
       "      <td>0.00004747</td>\n",
       "      <td>0.00005480</td>\n",
       "      <td>0.00004747</td>\n",
       "      <td>0.00005348</td>\n",
       "      <td>1468616.00000000</td>\n",
       "      <td>1500007499999</td>\n",
       "      <td>76.15190292</td>\n",
       "      <td>295</td>\n",
       "      <td>1173502.00000000</td>\n",
       "      <td>60.49395309</td>\n",
       "      <td>85284586.80346950</td>\n",
       "    </tr>\n",
       "    <tr>\n",
       "      <th>2017-07-14 04:59:59.999</th>\n",
       "      <td>1500007500000</td>\n",
       "      <td>0.00005300</td>\n",
       "      <td>0.00005348</td>\n",
       "      <td>0.00004746</td>\n",
       "      <td>0.00004955</td>\n",
       "      <td>977907.00000000</td>\n",
       "      <td>1500008399999</td>\n",
       "      <td>49.83045683</td>\n",
       "      <td>218</td>\n",
       "      <td>372278.00000000</td>\n",
       "      <td>19.65486654</td>\n",
       "      <td>86413164.78446950</td>\n",
       "    </tr>\n",
       "    <tr>\n",
       "      <th>2017-07-14 05:14:59.999</th>\n",
       "      <td>1500008400000</td>\n",
       "      <td>0.00004946</td>\n",
       "      <td>0.00004946</td>\n",
       "      <td>0.00004480</td>\n",
       "      <td>0.00004491</td>\n",
       "      <td>625622.00000000</td>\n",
       "      <td>1500009299999</td>\n",
       "      <td>29.46253842</td>\n",
       "      <td>153</td>\n",
       "      <td>113307.00000000</td>\n",
       "      <td>5.45375234</td>\n",
       "      <td>86369375.53446950</td>\n",
       "    </tr>\n",
       "  </tbody>\n",
       "</table>\n",
       "</div>"
      ],
      "text/plain": [
       "                             open_time           o           h           l  \\\n",
       "2017-07-14 04:14:59.999  1500004800000  0.00005000  0.00005300  0.00001000   \n",
       "2017-07-14 04:29:59.999  1500005700000  0.00004086  0.00004898  0.00004000   \n",
       "2017-07-14 04:44:59.999  1500006600000  0.00004747  0.00005480  0.00004747   \n",
       "2017-07-14 04:59:59.999  1500007500000  0.00005300  0.00005348  0.00004746   \n",
       "2017-07-14 05:14:59.999  1500008400000  0.00004946  0.00004946  0.00004480   \n",
       "\n",
       "                                  c                 v     close_time  \\\n",
       "2017-07-14 04:14:59.999  0.00004000  3148043.00000000  1500005699999   \n",
       "2017-07-14 04:29:59.999  0.00004747  1259082.00000000  1500006599999   \n",
       "2017-07-14 04:44:59.999  0.00005348  1468616.00000000  1500007499999   \n",
       "2017-07-14 04:59:59.999  0.00004955   977907.00000000  1500008399999   \n",
       "2017-07-14 05:14:59.999  0.00004491   625622.00000000  1500009299999   \n",
       "\n",
       "                                  qav  num_trades    taker_base_vol  \\\n",
       "2017-07-14 04:14:59.999  130.30196612         451  2669352.00000000   \n",
       "2017-07-14 04:29:59.999   56.06023368         305   943579.00000000   \n",
       "2017-07-14 04:44:59.999   76.15190292         295  1173502.00000000   \n",
       "2017-07-14 04:59:59.999   49.83045683         218   372278.00000000   \n",
       "2017-07-14 05:14:59.999   29.46253842         153   113307.00000000   \n",
       "\n",
       "                        taker_quote_vol             ignore  \n",
       "2017-07-14 04:14:59.999    111.18404497  84396652.45546950  \n",
       "2017-07-14 04:29:59.999     41.91450043  84713908.44046950  \n",
       "2017-07-14 04:44:59.999     60.49395309  85284586.80346950  \n",
       "2017-07-14 04:59:59.999     19.65486654  86413164.78446950  \n",
       "2017-07-14 05:14:59.999      5.45375234  86369375.53446950  "
      ]
     },
     "execution_count": 6,
     "metadata": {},
     "output_type": "execute_result"
    }
   ],
   "source": [
    "df.head()\n"
   ]
  },
  {
   "cell_type": "code",
   "execution_count": 7,
   "metadata": {},
   "outputs": [
    {
     "data": {
      "text/html": [
       "<div>\n",
       "<style scoped>\n",
       "    .dataframe tbody tr th:only-of-type {\n",
       "        vertical-align: middle;\n",
       "    }\n",
       "\n",
       "    .dataframe tbody tr th {\n",
       "        vertical-align: top;\n",
       "    }\n",
       "\n",
       "    .dataframe thead th {\n",
       "        text-align: right;\n",
       "    }\n",
       "</style>\n",
       "<table border=\"1\" class=\"dataframe\">\n",
       "  <thead>\n",
       "    <tr style=\"text-align: right;\">\n",
       "      <th></th>\n",
       "      <th>open_time</th>\n",
       "      <th>o</th>\n",
       "      <th>h</th>\n",
       "      <th>l</th>\n",
       "      <th>c</th>\n",
       "      <th>v</th>\n",
       "      <th>close_time</th>\n",
       "      <th>qav</th>\n",
       "      <th>num_trades</th>\n",
       "      <th>taker_base_vol</th>\n",
       "      <th>taker_quote_vol</th>\n",
       "      <th>ignore</th>\n",
       "    </tr>\n",
       "  </thead>\n",
       "  <tbody>\n",
       "    <tr>\n",
       "      <th>2017-07-24 12:59:59.999</th>\n",
       "      <td>1500900300000</td>\n",
       "      <td>0.00004201</td>\n",
       "      <td>0.00004210</td>\n",
       "      <td>0.00004200</td>\n",
       "      <td>0.00004209</td>\n",
       "      <td>7947.00000000</td>\n",
       "      <td>1500901199999</td>\n",
       "      <td>0.33422454</td>\n",
       "      <td>17</td>\n",
       "      <td>1915.00000000</td>\n",
       "      <td>0.08061958</td>\n",
       "      <td>100045602.28789950</td>\n",
       "    </tr>\n",
       "    <tr>\n",
       "      <th>2017-07-24 13:14:59.999</th>\n",
       "      <td>1500901200000</td>\n",
       "      <td>0.00004209</td>\n",
       "      <td>0.00004224</td>\n",
       "      <td>0.00004200</td>\n",
       "      <td>0.00004218</td>\n",
       "      <td>22332.00000000</td>\n",
       "      <td>1500902099999</td>\n",
       "      <td>0.94069304</td>\n",
       "      <td>21</td>\n",
       "      <td>20998.00000000</td>\n",
       "      <td>0.88465282</td>\n",
       "      <td>100040614.28789950</td>\n",
       "    </tr>\n",
       "    <tr>\n",
       "      <th>2017-07-24 13:29:59.999</th>\n",
       "      <td>1500902100000</td>\n",
       "      <td>0.00004216</td>\n",
       "      <td>0.00004218</td>\n",
       "      <td>0.00004208</td>\n",
       "      <td>0.00004211</td>\n",
       "      <td>7952.00000000</td>\n",
       "      <td>1500902999999</td>\n",
       "      <td>0.33503502</td>\n",
       "      <td>22</td>\n",
       "      <td>4852.00000000</td>\n",
       "      <td>0.20446648</td>\n",
       "      <td>100048799.28789950</td>\n",
       "    </tr>\n",
       "    <tr>\n",
       "      <th>2017-07-24 13:44:59.999</th>\n",
       "      <td>1500903000000</td>\n",
       "      <td>0.00004216</td>\n",
       "      <td>0.00004225</td>\n",
       "      <td>0.00004214</td>\n",
       "      <td>0.00004222</td>\n",
       "      <td>36773.00000000</td>\n",
       "      <td>1500903899999</td>\n",
       "      <td>1.55194888</td>\n",
       "      <td>30</td>\n",
       "      <td>31338.00000000</td>\n",
       "      <td>1.32278706</td>\n",
       "      <td>100048799.28789950</td>\n",
       "    </tr>\n",
       "    <tr>\n",
       "      <th>2017-07-24 13:59:59.999</th>\n",
       "      <td>1500903900000</td>\n",
       "      <td>0.00004228</td>\n",
       "      <td>0.00004230</td>\n",
       "      <td>0.00004221</td>\n",
       "      <td>0.00004229</td>\n",
       "      <td>17608.00000000</td>\n",
       "      <td>1500904799999</td>\n",
       "      <td>0.74418614</td>\n",
       "      <td>23</td>\n",
       "      <td>10034.00000000</td>\n",
       "      <td>0.42421623</td>\n",
       "      <td>100048799.28789950</td>\n",
       "    </tr>\n",
       "  </tbody>\n",
       "</table>\n",
       "</div>"
      ],
      "text/plain": [
       "                             open_time           o           h           l  \\\n",
       "2017-07-24 12:59:59.999  1500900300000  0.00004201  0.00004210  0.00004200   \n",
       "2017-07-24 13:14:59.999  1500901200000  0.00004209  0.00004224  0.00004200   \n",
       "2017-07-24 13:29:59.999  1500902100000  0.00004216  0.00004218  0.00004208   \n",
       "2017-07-24 13:44:59.999  1500903000000  0.00004216  0.00004225  0.00004214   \n",
       "2017-07-24 13:59:59.999  1500903900000  0.00004228  0.00004230  0.00004221   \n",
       "\n",
       "                                  c               v     close_time  \\\n",
       "2017-07-24 12:59:59.999  0.00004209   7947.00000000  1500901199999   \n",
       "2017-07-24 13:14:59.999  0.00004218  22332.00000000  1500902099999   \n",
       "2017-07-24 13:29:59.999  0.00004211   7952.00000000  1500902999999   \n",
       "2017-07-24 13:44:59.999  0.00004222  36773.00000000  1500903899999   \n",
       "2017-07-24 13:59:59.999  0.00004229  17608.00000000  1500904799999   \n",
       "\n",
       "                                qav  num_trades  taker_base_vol  \\\n",
       "2017-07-24 12:59:59.999  0.33422454          17   1915.00000000   \n",
       "2017-07-24 13:14:59.999  0.94069304          21  20998.00000000   \n",
       "2017-07-24 13:29:59.999  0.33503502          22   4852.00000000   \n",
       "2017-07-24 13:44:59.999  1.55194888          30  31338.00000000   \n",
       "2017-07-24 13:59:59.999  0.74418614          23  10034.00000000   \n",
       "\n",
       "                        taker_quote_vol              ignore  \n",
       "2017-07-24 12:59:59.999      0.08061958  100045602.28789950  \n",
       "2017-07-24 13:14:59.999      0.88465282  100040614.28789950  \n",
       "2017-07-24 13:29:59.999      0.20446648  100048799.28789950  \n",
       "2017-07-24 13:44:59.999      1.32278706  100048799.28789950  \n",
       "2017-07-24 13:59:59.999      0.42421623  100048799.28789950  "
      ]
     },
     "execution_count": 7,
     "metadata": {},
     "output_type": "execute_result"
    }
   ],
   "source": [
    "df.tail()"
   ]
  },
  {
   "cell_type": "code",
   "execution_count": 8,
   "metadata": {},
   "outputs": [
    {
     "data": {
      "text/plain": [
       "0.93995388"
      ]
     },
     "execution_count": 8,
     "metadata": {},
     "output_type": "execute_result"
    }
   ],
   "source": [
    "22332.00000000 * 0.00004209\n"
   ]
  },
  {
   "cell_type": "code",
   "execution_count": 9,
   "metadata": {},
   "outputs": [
    {
     "data": {
      "text/plain": [
       "'Friday, July 14, 2017 02:40:00'"
      ]
     },
     "execution_count": 9,
     "metadata": {},
     "output_type": "execute_result"
    }
   ],
   "source": [
    "dt.datetime.fromtimestamp(1500000000000/1000).strftime(\"%A, %B %d, %Y %I:%M:%S\")\n"
   ]
  },
  {
   "cell_type": "code",
   "execution_count": 10,
   "metadata": {},
   "outputs": [
    {
     "data": {
      "text/plain": [
       "'1500903900000'"
      ]
     },
     "execution_count": 10,
     "metadata": {},
     "output_type": "execute_result"
    }
   ],
   "source": [
    "repr(df['open_time'][-1])\n"
   ]
  },
  {
   "cell_type": "code",
   "execution_count": 11,
   "metadata": {},
   "outputs": [
    {
     "name": "stdout",
     "output_type": "stream",
     "text": [
      "85\r"
     ]
    }
   ],
   "source": [
    "dfs = []\n",
    "starttime = 1500004800000\n",
    "\n",
    "l = 1000\n",
    "i = 0\n",
    "while l == 1000:\n",
    "# for _ in range(5):\n",
    "    df = get_bars(\"BNBBTC\", interval='15m', limit=1000, starttime=starttime, endtime='')\n",
    "    dfs.append(df)\n",
    "    l = len(df)\n",
    "    starttime = int(df['open_time'][-1]) + 1\n",
    "    i += 1\n",
    "    print(i, end='\\r')"
   ]
  },
  {
   "cell_type": "code",
   "execution_count": 12,
   "metadata": {},
   "outputs": [
    {
     "data": {
      "text/plain": [
       "1000"
      ]
     },
     "execution_count": 12,
     "metadata": {},
     "output_type": "execute_result"
    }
   ],
   "source": [
    "len(dfs[0])\n"
   ]
  },
  {
   "cell_type": "code",
   "execution_count": 13,
   "metadata": {},
   "outputs": [
    {
     "data": {
      "text/plain": [
       "1000"
      ]
     },
     "execution_count": 13,
     "metadata": {},
     "output_type": "execute_result"
    }
   ],
   "source": [
    "len(dfs[1])\n"
   ]
  },
  {
   "cell_type": "code",
   "execution_count": 14,
   "metadata": {},
   "outputs": [
    {
     "data": {
      "text/plain": [
       "84347"
      ]
     },
     "execution_count": 14,
     "metadata": {},
     "output_type": "execute_result"
    }
   ],
   "source": [
    "len(pd.concat(dfs))\n"
   ]
  },
  {
   "cell_type": "code",
   "execution_count": 15,
   "metadata": {},
   "outputs": [
    {
     "data": {
      "text/plain": [
       "347"
      ]
     },
     "execution_count": 15,
     "metadata": {},
     "output_type": "execute_result"
    }
   ],
   "source": [
    "len(dfs[-1])\n"
   ]
  },
  {
   "cell_type": "code",
   "execution_count": 16,
   "metadata": {},
   "outputs": [],
   "source": [
    "huge_df = pd.concat(dfs)\n"
   ]
  },
  {
   "cell_type": "code",
   "execution_count": 17,
   "metadata": {},
   "outputs": [
    {
     "data": {
      "text/plain": [
       "84347"
      ]
     },
     "execution_count": 17,
     "metadata": {},
     "output_type": "execute_result"
    }
   ],
   "source": [
    "len(huge_df)\n"
   ]
  },
  {
   "cell_type": "code",
   "execution_count": null,
   "metadata": {},
   "outputs": [],
   "source": [
    "huge_df.to_hdf('binance_data.h5', 'STW')\n"
   ]
  },
  {
   "cell_type": "code",
   "execution_count": null,
   "metadata": {},
   "outputs": [],
   "source": []
  }
 ],
 "metadata": {
  "kernelspec": {
   "display_name": "Python 3",
   "language": "python",
   "name": "python3"
  },
  "language_info": {
   "codemirror_mode": {
    "name": "ipython",
    "version": 3
   },
   "file_extension": ".py",
   "mimetype": "text/x-python",
   "name": "python",
   "nbconvert_exporter": "python",
   "pygments_lexer": "ipython3",
   "version": "3.7.3"
  }
 },
 "nbformat": 4,
 "nbformat_minor": 4
}
